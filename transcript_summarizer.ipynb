{
  "nbformat": 4,
  "nbformat_minor": 0,
  "metadata": {
    "colab": {
      "name": "transcript summarizer.ipynb",
      "provenance": [],
      "authorship_tag": "ABX9TyN4vrwOzcDHAlOilv3Hdglr",
      "include_colab_link": true
    },
    "kernelspec": {
      "name": "python3",
      "display_name": "Python 3"
    },
    "language_info": {
      "name": "python"
    },
    "widgets": {
      "application/vnd.jupyter.widget-state+json": {
        "758bf2b563684faa96c2f48c2ef5e99e": {
          "model_module": "@jupyter-widgets/controls",
          "model_name": "HBoxModel",
          "state": {
            "_view_name": "HBoxView",
            "_dom_classes": [],
            "_model_name": "HBoxModel",
            "_view_module": "@jupyter-widgets/controls",
            "_model_module_version": "1.5.0",
            "_view_count": null,
            "_view_module_version": "1.5.0",
            "box_style": "",
            "layout": "IPY_MODEL_02cb65b7c35a471c9e47d13322e5749e",
            "_model_module": "@jupyter-widgets/controls",
            "children": [
              "IPY_MODEL_1afd1adaa7fd49d7a0326009af570af9",
              "IPY_MODEL_6215c84cb03c446db0d9e53d57988f3d"
            ]
          }
        },
        "02cb65b7c35a471c9e47d13322e5749e": {
          "model_module": "@jupyter-widgets/base",
          "model_name": "LayoutModel",
          "state": {
            "_view_name": "LayoutView",
            "grid_template_rows": null,
            "right": null,
            "justify_content": null,
            "_view_module": "@jupyter-widgets/base",
            "overflow": null,
            "_model_module_version": "1.2.0",
            "_view_count": null,
            "flex_flow": null,
            "width": null,
            "min_width": null,
            "border": null,
            "align_items": null,
            "bottom": null,
            "_model_module": "@jupyter-widgets/base",
            "top": null,
            "grid_column": null,
            "overflow_y": null,
            "overflow_x": null,
            "grid_auto_flow": null,
            "grid_area": null,
            "grid_template_columns": null,
            "flex": null,
            "_model_name": "LayoutModel",
            "justify_items": null,
            "grid_row": null,
            "max_height": null,
            "align_content": null,
            "visibility": null,
            "align_self": null,
            "height": null,
            "min_height": null,
            "padding": null,
            "grid_auto_rows": null,
            "grid_gap": null,
            "max_width": null,
            "order": null,
            "_view_module_version": "1.2.0",
            "grid_template_areas": null,
            "object_position": null,
            "object_fit": null,
            "grid_auto_columns": null,
            "margin": null,
            "display": null,
            "left": null
          }
        },
        "1afd1adaa7fd49d7a0326009af570af9": {
          "model_module": "@jupyter-widgets/controls",
          "model_name": "FloatProgressModel",
          "state": {
            "_view_name": "ProgressView",
            "style": "IPY_MODEL_c4d44f1a16bf41fa88e3abfe4f86483b",
            "_dom_classes": [],
            "description": "Downloading: 100%",
            "_model_name": "FloatProgressModel",
            "bar_style": "success",
            "max": 1802,
            "_view_module": "@jupyter-widgets/controls",
            "_model_module_version": "1.5.0",
            "value": 1802,
            "_view_count": null,
            "_view_module_version": "1.5.0",
            "orientation": "horizontal",
            "min": 0,
            "description_tooltip": null,
            "_model_module": "@jupyter-widgets/controls",
            "layout": "IPY_MODEL_29555eae46ba4226b33ee4a4ace2a4c7"
          }
        },
        "6215c84cb03c446db0d9e53d57988f3d": {
          "model_module": "@jupyter-widgets/controls",
          "model_name": "HTMLModel",
          "state": {
            "_view_name": "HTMLView",
            "style": "IPY_MODEL_d5445727c5594f92b10683faec93db6e",
            "_dom_classes": [],
            "description": "",
            "_model_name": "HTMLModel",
            "placeholder": "​",
            "_view_module": "@jupyter-widgets/controls",
            "_model_module_version": "1.5.0",
            "value": " 1.80k/1.80k [00:01&lt;00:00, 1.21kB/s]",
            "_view_count": null,
            "_view_module_version": "1.5.0",
            "description_tooltip": null,
            "_model_module": "@jupyter-widgets/controls",
            "layout": "IPY_MODEL_a9bd2364d7234a0eb25d6fbb302c0afe"
          }
        },
        "c4d44f1a16bf41fa88e3abfe4f86483b": {
          "model_module": "@jupyter-widgets/controls",
          "model_name": "ProgressStyleModel",
          "state": {
            "_view_name": "StyleView",
            "_model_name": "ProgressStyleModel",
            "description_width": "initial",
            "_view_module": "@jupyter-widgets/base",
            "_model_module_version": "1.5.0",
            "_view_count": null,
            "_view_module_version": "1.2.0",
            "bar_color": null,
            "_model_module": "@jupyter-widgets/controls"
          }
        },
        "29555eae46ba4226b33ee4a4ace2a4c7": {
          "model_module": "@jupyter-widgets/base",
          "model_name": "LayoutModel",
          "state": {
            "_view_name": "LayoutView",
            "grid_template_rows": null,
            "right": null,
            "justify_content": null,
            "_view_module": "@jupyter-widgets/base",
            "overflow": null,
            "_model_module_version": "1.2.0",
            "_view_count": null,
            "flex_flow": null,
            "width": null,
            "min_width": null,
            "border": null,
            "align_items": null,
            "bottom": null,
            "_model_module": "@jupyter-widgets/base",
            "top": null,
            "grid_column": null,
            "overflow_y": null,
            "overflow_x": null,
            "grid_auto_flow": null,
            "grid_area": null,
            "grid_template_columns": null,
            "flex": null,
            "_model_name": "LayoutModel",
            "justify_items": null,
            "grid_row": null,
            "max_height": null,
            "align_content": null,
            "visibility": null,
            "align_self": null,
            "height": null,
            "min_height": null,
            "padding": null,
            "grid_auto_rows": null,
            "grid_gap": null,
            "max_width": null,
            "order": null,
            "_view_module_version": "1.2.0",
            "grid_template_areas": null,
            "object_position": null,
            "object_fit": null,
            "grid_auto_columns": null,
            "margin": null,
            "display": null,
            "left": null
          }
        },
        "d5445727c5594f92b10683faec93db6e": {
          "model_module": "@jupyter-widgets/controls",
          "model_name": "DescriptionStyleModel",
          "state": {
            "_view_name": "StyleView",
            "_model_name": "DescriptionStyleModel",
            "description_width": "",
            "_view_module": "@jupyter-widgets/base",
            "_model_module_version": "1.5.0",
            "_view_count": null,
            "_view_module_version": "1.2.0",
            "_model_module": "@jupyter-widgets/controls"
          }
        },
        "a9bd2364d7234a0eb25d6fbb302c0afe": {
          "model_module": "@jupyter-widgets/base",
          "model_name": "LayoutModel",
          "state": {
            "_view_name": "LayoutView",
            "grid_template_rows": null,
            "right": null,
            "justify_content": null,
            "_view_module": "@jupyter-widgets/base",
            "overflow": null,
            "_model_module_version": "1.2.0",
            "_view_count": null,
            "flex_flow": null,
            "width": null,
            "min_width": null,
            "border": null,
            "align_items": null,
            "bottom": null,
            "_model_module": "@jupyter-widgets/base",
            "top": null,
            "grid_column": null,
            "overflow_y": null,
            "overflow_x": null,
            "grid_auto_flow": null,
            "grid_area": null,
            "grid_template_columns": null,
            "flex": null,
            "_model_name": "LayoutModel",
            "justify_items": null,
            "grid_row": null,
            "max_height": null,
            "align_content": null,
            "visibility": null,
            "align_self": null,
            "height": null,
            "min_height": null,
            "padding": null,
            "grid_auto_rows": null,
            "grid_gap": null,
            "max_width": null,
            "order": null,
            "_view_module_version": "1.2.0",
            "grid_template_areas": null,
            "object_position": null,
            "object_fit": null,
            "grid_auto_columns": null,
            "margin": null,
            "display": null,
            "left": null
          }
        },
        "b51b2d044a6449b19e2ab03ed120916a": {
          "model_module": "@jupyter-widgets/controls",
          "model_name": "HBoxModel",
          "state": {
            "_view_name": "HBoxView",
            "_dom_classes": [],
            "_model_name": "HBoxModel",
            "_view_module": "@jupyter-widgets/controls",
            "_model_module_version": "1.5.0",
            "_view_count": null,
            "_view_module_version": "1.5.0",
            "box_style": "",
            "layout": "IPY_MODEL_9576a1a90943420f8b83da74ff1f79d1",
            "_model_module": "@jupyter-widgets/controls",
            "children": [
              "IPY_MODEL_637ae103862b4d6e90b330bcc943ad1f",
              "IPY_MODEL_3d98f94d68754f038e51ed3022f4796c"
            ]
          }
        },
        "9576a1a90943420f8b83da74ff1f79d1": {
          "model_module": "@jupyter-widgets/base",
          "model_name": "LayoutModel",
          "state": {
            "_view_name": "LayoutView",
            "grid_template_rows": null,
            "right": null,
            "justify_content": null,
            "_view_module": "@jupyter-widgets/base",
            "overflow": null,
            "_model_module_version": "1.2.0",
            "_view_count": null,
            "flex_flow": null,
            "width": null,
            "min_width": null,
            "border": null,
            "align_items": null,
            "bottom": null,
            "_model_module": "@jupyter-widgets/base",
            "top": null,
            "grid_column": null,
            "overflow_y": null,
            "overflow_x": null,
            "grid_auto_flow": null,
            "grid_area": null,
            "grid_template_columns": null,
            "flex": null,
            "_model_name": "LayoutModel",
            "justify_items": null,
            "grid_row": null,
            "max_height": null,
            "align_content": null,
            "visibility": null,
            "align_self": null,
            "height": null,
            "min_height": null,
            "padding": null,
            "grid_auto_rows": null,
            "grid_gap": null,
            "max_width": null,
            "order": null,
            "_view_module_version": "1.2.0",
            "grid_template_areas": null,
            "object_position": null,
            "object_fit": null,
            "grid_auto_columns": null,
            "margin": null,
            "display": null,
            "left": null
          }
        },
        "637ae103862b4d6e90b330bcc943ad1f": {
          "model_module": "@jupyter-widgets/controls",
          "model_name": "FloatProgressModel",
          "state": {
            "_view_name": "ProgressView",
            "style": "IPY_MODEL_ec553d4834b04e8fb6c3f3dc70708b47",
            "_dom_classes": [],
            "description": "Downloading: 100%",
            "_model_name": "FloatProgressModel",
            "bar_style": "success",
            "max": 1222317369,
            "_view_module": "@jupyter-widgets/controls",
            "_model_module_version": "1.5.0",
            "value": 1222317369,
            "_view_count": null,
            "_view_module_version": "1.5.0",
            "orientation": "horizontal",
            "min": 0,
            "description_tooltip": null,
            "_model_module": "@jupyter-widgets/controls",
            "layout": "IPY_MODEL_5fae0423292b4d3192564a4f0ff1259e"
          }
        },
        "3d98f94d68754f038e51ed3022f4796c": {
          "model_module": "@jupyter-widgets/controls",
          "model_name": "HTMLModel",
          "state": {
            "_view_name": "HTMLView",
            "style": "IPY_MODEL_07cc1392b2db4b9ba234accf573eb47d",
            "_dom_classes": [],
            "description": "",
            "_model_name": "HTMLModel",
            "placeholder": "​",
            "_view_module": "@jupyter-widgets/controls",
            "_model_module_version": "1.5.0",
            "value": " 1.22G/1.22G [00:32&lt;00:00, 37.6MB/s]",
            "_view_count": null,
            "_view_module_version": "1.5.0",
            "description_tooltip": null,
            "_model_module": "@jupyter-widgets/controls",
            "layout": "IPY_MODEL_dd211ef279e346ea8525078d22386247"
          }
        },
        "ec553d4834b04e8fb6c3f3dc70708b47": {
          "model_module": "@jupyter-widgets/controls",
          "model_name": "ProgressStyleModel",
          "state": {
            "_view_name": "StyleView",
            "_model_name": "ProgressStyleModel",
            "description_width": "initial",
            "_view_module": "@jupyter-widgets/base",
            "_model_module_version": "1.5.0",
            "_view_count": null,
            "_view_module_version": "1.2.0",
            "bar_color": null,
            "_model_module": "@jupyter-widgets/controls"
          }
        },
        "5fae0423292b4d3192564a4f0ff1259e": {
          "model_module": "@jupyter-widgets/base",
          "model_name": "LayoutModel",
          "state": {
            "_view_name": "LayoutView",
            "grid_template_rows": null,
            "right": null,
            "justify_content": null,
            "_view_module": "@jupyter-widgets/base",
            "overflow": null,
            "_model_module_version": "1.2.0",
            "_view_count": null,
            "flex_flow": null,
            "width": null,
            "min_width": null,
            "border": null,
            "align_items": null,
            "bottom": null,
            "_model_module": "@jupyter-widgets/base",
            "top": null,
            "grid_column": null,
            "overflow_y": null,
            "overflow_x": null,
            "grid_auto_flow": null,
            "grid_area": null,
            "grid_template_columns": null,
            "flex": null,
            "_model_name": "LayoutModel",
            "justify_items": null,
            "grid_row": null,
            "max_height": null,
            "align_content": null,
            "visibility": null,
            "align_self": null,
            "height": null,
            "min_height": null,
            "padding": null,
            "grid_auto_rows": null,
            "grid_gap": null,
            "max_width": null,
            "order": null,
            "_view_module_version": "1.2.0",
            "grid_template_areas": null,
            "object_position": null,
            "object_fit": null,
            "grid_auto_columns": null,
            "margin": null,
            "display": null,
            "left": null
          }
        },
        "07cc1392b2db4b9ba234accf573eb47d": {
          "model_module": "@jupyter-widgets/controls",
          "model_name": "DescriptionStyleModel",
          "state": {
            "_view_name": "StyleView",
            "_model_name": "DescriptionStyleModel",
            "description_width": "",
            "_view_module": "@jupyter-widgets/base",
            "_model_module_version": "1.5.0",
            "_view_count": null,
            "_view_module_version": "1.2.0",
            "_model_module": "@jupyter-widgets/controls"
          }
        },
        "dd211ef279e346ea8525078d22386247": {
          "model_module": "@jupyter-widgets/base",
          "model_name": "LayoutModel",
          "state": {
            "_view_name": "LayoutView",
            "grid_template_rows": null,
            "right": null,
            "justify_content": null,
            "_view_module": "@jupyter-widgets/base",
            "overflow": null,
            "_model_module_version": "1.2.0",
            "_view_count": null,
            "flex_flow": null,
            "width": null,
            "min_width": null,
            "border": null,
            "align_items": null,
            "bottom": null,
            "_model_module": "@jupyter-widgets/base",
            "top": null,
            "grid_column": null,
            "overflow_y": null,
            "overflow_x": null,
            "grid_auto_flow": null,
            "grid_area": null,
            "grid_template_columns": null,
            "flex": null,
            "_model_name": "LayoutModel",
            "justify_items": null,
            "grid_row": null,
            "max_height": null,
            "align_content": null,
            "visibility": null,
            "align_self": null,
            "height": null,
            "min_height": null,
            "padding": null,
            "grid_auto_rows": null,
            "grid_gap": null,
            "max_width": null,
            "order": null,
            "_view_module_version": "1.2.0",
            "grid_template_areas": null,
            "object_position": null,
            "object_fit": null,
            "grid_auto_columns": null,
            "margin": null,
            "display": null,
            "left": null
          }
        },
        "54270d3a58a247ffbd724938b165f978": {
          "model_module": "@jupyter-widgets/controls",
          "model_name": "HBoxModel",
          "state": {
            "_view_name": "HBoxView",
            "_dom_classes": [],
            "_model_name": "HBoxModel",
            "_view_module": "@jupyter-widgets/controls",
            "_model_module_version": "1.5.0",
            "_view_count": null,
            "_view_module_version": "1.5.0",
            "box_style": "",
            "layout": "IPY_MODEL_3d10d406c8574293ba80c62baae644e1",
            "_model_module": "@jupyter-widgets/controls",
            "children": [
              "IPY_MODEL_a3eb46cd20b74b16b3d04943d3729861",
              "IPY_MODEL_3a8f62e2f20a46d0a6a71b7baadc6438"
            ]
          }
        },
        "3d10d406c8574293ba80c62baae644e1": {
          "model_module": "@jupyter-widgets/base",
          "model_name": "LayoutModel",
          "state": {
            "_view_name": "LayoutView",
            "grid_template_rows": null,
            "right": null,
            "justify_content": null,
            "_view_module": "@jupyter-widgets/base",
            "overflow": null,
            "_model_module_version": "1.2.0",
            "_view_count": null,
            "flex_flow": null,
            "width": null,
            "min_width": null,
            "border": null,
            "align_items": null,
            "bottom": null,
            "_model_module": "@jupyter-widgets/base",
            "top": null,
            "grid_column": null,
            "overflow_y": null,
            "overflow_x": null,
            "grid_auto_flow": null,
            "grid_area": null,
            "grid_template_columns": null,
            "flex": null,
            "_model_name": "LayoutModel",
            "justify_items": null,
            "grid_row": null,
            "max_height": null,
            "align_content": null,
            "visibility": null,
            "align_self": null,
            "height": null,
            "min_height": null,
            "padding": null,
            "grid_auto_rows": null,
            "grid_gap": null,
            "max_width": null,
            "order": null,
            "_view_module_version": "1.2.0",
            "grid_template_areas": null,
            "object_position": null,
            "object_fit": null,
            "grid_auto_columns": null,
            "margin": null,
            "display": null,
            "left": null
          }
        },
        "a3eb46cd20b74b16b3d04943d3729861": {
          "model_module": "@jupyter-widgets/controls",
          "model_name": "FloatProgressModel",
          "state": {
            "_view_name": "ProgressView",
            "style": "IPY_MODEL_f802d3b7e564428fb696326bc901ea13",
            "_dom_classes": [],
            "description": "Downloading: 100%",
            "_model_name": "FloatProgressModel",
            "bar_style": "success",
            "max": 26,
            "_view_module": "@jupyter-widgets/controls",
            "_model_module_version": "1.5.0",
            "value": 26,
            "_view_count": null,
            "_view_module_version": "1.5.0",
            "orientation": "horizontal",
            "min": 0,
            "description_tooltip": null,
            "_model_module": "@jupyter-widgets/controls",
            "layout": "IPY_MODEL_efc78137e771467e91f4e4fa64b082c1"
          }
        },
        "3a8f62e2f20a46d0a6a71b7baadc6438": {
          "model_module": "@jupyter-widgets/controls",
          "model_name": "HTMLModel",
          "state": {
            "_view_name": "HTMLView",
            "style": "IPY_MODEL_ba13640655dc4b61a0ae6fb1ea188997",
            "_dom_classes": [],
            "description": "",
            "_model_name": "HTMLModel",
            "placeholder": "​",
            "_view_module": "@jupyter-widgets/controls",
            "_model_module_version": "1.5.0",
            "value": " 26.0/26.0 [00:02&lt;00:00, 10.9B/s]",
            "_view_count": null,
            "_view_module_version": "1.5.0",
            "description_tooltip": null,
            "_model_module": "@jupyter-widgets/controls",
            "layout": "IPY_MODEL_23db47159e3d4a6382d145a6acc4a2eb"
          }
        },
        "f802d3b7e564428fb696326bc901ea13": {
          "model_module": "@jupyter-widgets/controls",
          "model_name": "ProgressStyleModel",
          "state": {
            "_view_name": "StyleView",
            "_model_name": "ProgressStyleModel",
            "description_width": "initial",
            "_view_module": "@jupyter-widgets/base",
            "_model_module_version": "1.5.0",
            "_view_count": null,
            "_view_module_version": "1.2.0",
            "bar_color": null,
            "_model_module": "@jupyter-widgets/controls"
          }
        },
        "efc78137e771467e91f4e4fa64b082c1": {
          "model_module": "@jupyter-widgets/base",
          "model_name": "LayoutModel",
          "state": {
            "_view_name": "LayoutView",
            "grid_template_rows": null,
            "right": null,
            "justify_content": null,
            "_view_module": "@jupyter-widgets/base",
            "overflow": null,
            "_model_module_version": "1.2.0",
            "_view_count": null,
            "flex_flow": null,
            "width": null,
            "min_width": null,
            "border": null,
            "align_items": null,
            "bottom": null,
            "_model_module": "@jupyter-widgets/base",
            "top": null,
            "grid_column": null,
            "overflow_y": null,
            "overflow_x": null,
            "grid_auto_flow": null,
            "grid_area": null,
            "grid_template_columns": null,
            "flex": null,
            "_model_name": "LayoutModel",
            "justify_items": null,
            "grid_row": null,
            "max_height": null,
            "align_content": null,
            "visibility": null,
            "align_self": null,
            "height": null,
            "min_height": null,
            "padding": null,
            "grid_auto_rows": null,
            "grid_gap": null,
            "max_width": null,
            "order": null,
            "_view_module_version": "1.2.0",
            "grid_template_areas": null,
            "object_position": null,
            "object_fit": null,
            "grid_auto_columns": null,
            "margin": null,
            "display": null,
            "left": null
          }
        },
        "ba13640655dc4b61a0ae6fb1ea188997": {
          "model_module": "@jupyter-widgets/controls",
          "model_name": "DescriptionStyleModel",
          "state": {
            "_view_name": "StyleView",
            "_model_name": "DescriptionStyleModel",
            "description_width": "",
            "_view_module": "@jupyter-widgets/base",
            "_model_module_version": "1.5.0",
            "_view_count": null,
            "_view_module_version": "1.2.0",
            "_model_module": "@jupyter-widgets/controls"
          }
        },
        "23db47159e3d4a6382d145a6acc4a2eb": {
          "model_module": "@jupyter-widgets/base",
          "model_name": "LayoutModel",
          "state": {
            "_view_name": "LayoutView",
            "grid_template_rows": null,
            "right": null,
            "justify_content": null,
            "_view_module": "@jupyter-widgets/base",
            "overflow": null,
            "_model_module_version": "1.2.0",
            "_view_count": null,
            "flex_flow": null,
            "width": null,
            "min_width": null,
            "border": null,
            "align_items": null,
            "bottom": null,
            "_model_module": "@jupyter-widgets/base",
            "top": null,
            "grid_column": null,
            "overflow_y": null,
            "overflow_x": null,
            "grid_auto_flow": null,
            "grid_area": null,
            "grid_template_columns": null,
            "flex": null,
            "_model_name": "LayoutModel",
            "justify_items": null,
            "grid_row": null,
            "max_height": null,
            "align_content": null,
            "visibility": null,
            "align_self": null,
            "height": null,
            "min_height": null,
            "padding": null,
            "grid_auto_rows": null,
            "grid_gap": null,
            "max_width": null,
            "order": null,
            "_view_module_version": "1.2.0",
            "grid_template_areas": null,
            "object_position": null,
            "object_fit": null,
            "grid_auto_columns": null,
            "margin": null,
            "display": null,
            "left": null
          }
        },
        "b912250dd641422d988522418b6abfc3": {
          "model_module": "@jupyter-widgets/controls",
          "model_name": "HBoxModel",
          "state": {
            "_view_name": "HBoxView",
            "_dom_classes": [],
            "_model_name": "HBoxModel",
            "_view_module": "@jupyter-widgets/controls",
            "_model_module_version": "1.5.0",
            "_view_count": null,
            "_view_module_version": "1.5.0",
            "box_style": "",
            "layout": "IPY_MODEL_3255cec31ade49099eeee01dd460dd7d",
            "_model_module": "@jupyter-widgets/controls",
            "children": [
              "IPY_MODEL_01e836ba140942329d66c169f103bb36",
              "IPY_MODEL_7dad5551e17c44e886344d5d462cf860"
            ]
          }
        },
        "3255cec31ade49099eeee01dd460dd7d": {
          "model_module": "@jupyter-widgets/base",
          "model_name": "LayoutModel",
          "state": {
            "_view_name": "LayoutView",
            "grid_template_rows": null,
            "right": null,
            "justify_content": null,
            "_view_module": "@jupyter-widgets/base",
            "overflow": null,
            "_model_module_version": "1.2.0",
            "_view_count": null,
            "flex_flow": null,
            "width": null,
            "min_width": null,
            "border": null,
            "align_items": null,
            "bottom": null,
            "_model_module": "@jupyter-widgets/base",
            "top": null,
            "grid_column": null,
            "overflow_y": null,
            "overflow_x": null,
            "grid_auto_flow": null,
            "grid_area": null,
            "grid_template_columns": null,
            "flex": null,
            "_model_name": "LayoutModel",
            "justify_items": null,
            "grid_row": null,
            "max_height": null,
            "align_content": null,
            "visibility": null,
            "align_self": null,
            "height": null,
            "min_height": null,
            "padding": null,
            "grid_auto_rows": null,
            "grid_gap": null,
            "max_width": null,
            "order": null,
            "_view_module_version": "1.2.0",
            "grid_template_areas": null,
            "object_position": null,
            "object_fit": null,
            "grid_auto_columns": null,
            "margin": null,
            "display": null,
            "left": null
          }
        },
        "01e836ba140942329d66c169f103bb36": {
          "model_module": "@jupyter-widgets/controls",
          "model_name": "FloatProgressModel",
          "state": {
            "_view_name": "ProgressView",
            "style": "IPY_MODEL_3f5a3e0b38de48eebd0d8a2d068967b6",
            "_dom_classes": [],
            "description": "Downloading: 100%",
            "_model_name": "FloatProgressModel",
            "bar_style": "success",
            "max": 898822,
            "_view_module": "@jupyter-widgets/controls",
            "_model_module_version": "1.5.0",
            "value": 898822,
            "_view_count": null,
            "_view_module_version": "1.5.0",
            "orientation": "horizontal",
            "min": 0,
            "description_tooltip": null,
            "_model_module": "@jupyter-widgets/controls",
            "layout": "IPY_MODEL_7f09f84eaff04c94b62f404c30b48dd2"
          }
        },
        "7dad5551e17c44e886344d5d462cf860": {
          "model_module": "@jupyter-widgets/controls",
          "model_name": "HTMLModel",
          "state": {
            "_view_name": "HTMLView",
            "style": "IPY_MODEL_d845f6c024224581ad9f534ee26396a0",
            "_dom_classes": [],
            "description": "",
            "_model_name": "HTMLModel",
            "placeholder": "​",
            "_view_module": "@jupyter-widgets/controls",
            "_model_module_version": "1.5.0",
            "value": " 899k/899k [00:05&lt;00:00, 170kB/s]",
            "_view_count": null,
            "_view_module_version": "1.5.0",
            "description_tooltip": null,
            "_model_module": "@jupyter-widgets/controls",
            "layout": "IPY_MODEL_a430786a8a0d4d759b7af74fcda334cf"
          }
        },
        "3f5a3e0b38de48eebd0d8a2d068967b6": {
          "model_module": "@jupyter-widgets/controls",
          "model_name": "ProgressStyleModel",
          "state": {
            "_view_name": "StyleView",
            "_model_name": "ProgressStyleModel",
            "description_width": "initial",
            "_view_module": "@jupyter-widgets/base",
            "_model_module_version": "1.5.0",
            "_view_count": null,
            "_view_module_version": "1.2.0",
            "bar_color": null,
            "_model_module": "@jupyter-widgets/controls"
          }
        },
        "7f09f84eaff04c94b62f404c30b48dd2": {
          "model_module": "@jupyter-widgets/base",
          "model_name": "LayoutModel",
          "state": {
            "_view_name": "LayoutView",
            "grid_template_rows": null,
            "right": null,
            "justify_content": null,
            "_view_module": "@jupyter-widgets/base",
            "overflow": null,
            "_model_module_version": "1.2.0",
            "_view_count": null,
            "flex_flow": null,
            "width": null,
            "min_width": null,
            "border": null,
            "align_items": null,
            "bottom": null,
            "_model_module": "@jupyter-widgets/base",
            "top": null,
            "grid_column": null,
            "overflow_y": null,
            "overflow_x": null,
            "grid_auto_flow": null,
            "grid_area": null,
            "grid_template_columns": null,
            "flex": null,
            "_model_name": "LayoutModel",
            "justify_items": null,
            "grid_row": null,
            "max_height": null,
            "align_content": null,
            "visibility": null,
            "align_self": null,
            "height": null,
            "min_height": null,
            "padding": null,
            "grid_auto_rows": null,
            "grid_gap": null,
            "max_width": null,
            "order": null,
            "_view_module_version": "1.2.0",
            "grid_template_areas": null,
            "object_position": null,
            "object_fit": null,
            "grid_auto_columns": null,
            "margin": null,
            "display": null,
            "left": null
          }
        },
        "d845f6c024224581ad9f534ee26396a0": {
          "model_module": "@jupyter-widgets/controls",
          "model_name": "DescriptionStyleModel",
          "state": {
            "_view_name": "StyleView",
            "_model_name": "DescriptionStyleModel",
            "description_width": "",
            "_view_module": "@jupyter-widgets/base",
            "_model_module_version": "1.5.0",
            "_view_count": null,
            "_view_module_version": "1.2.0",
            "_model_module": "@jupyter-widgets/controls"
          }
        },
        "a430786a8a0d4d759b7af74fcda334cf": {
          "model_module": "@jupyter-widgets/base",
          "model_name": "LayoutModel",
          "state": {
            "_view_name": "LayoutView",
            "grid_template_rows": null,
            "right": null,
            "justify_content": null,
            "_view_module": "@jupyter-widgets/base",
            "overflow": null,
            "_model_module_version": "1.2.0",
            "_view_count": null,
            "flex_flow": null,
            "width": null,
            "min_width": null,
            "border": null,
            "align_items": null,
            "bottom": null,
            "_model_module": "@jupyter-widgets/base",
            "top": null,
            "grid_column": null,
            "overflow_y": null,
            "overflow_x": null,
            "grid_auto_flow": null,
            "grid_area": null,
            "grid_template_columns": null,
            "flex": null,
            "_model_name": "LayoutModel",
            "justify_items": null,
            "grid_row": null,
            "max_height": null,
            "align_content": null,
            "visibility": null,
            "align_self": null,
            "height": null,
            "min_height": null,
            "padding": null,
            "grid_auto_rows": null,
            "grid_gap": null,
            "max_width": null,
            "order": null,
            "_view_module_version": "1.2.0",
            "grid_template_areas": null,
            "object_position": null,
            "object_fit": null,
            "grid_auto_columns": null,
            "margin": null,
            "display": null,
            "left": null
          }
        },
        "04e86e1133ed435db648ef22dd9a12d2": {
          "model_module": "@jupyter-widgets/controls",
          "model_name": "HBoxModel",
          "state": {
            "_view_name": "HBoxView",
            "_dom_classes": [],
            "_model_name": "HBoxModel",
            "_view_module": "@jupyter-widgets/controls",
            "_model_module_version": "1.5.0",
            "_view_count": null,
            "_view_module_version": "1.5.0",
            "box_style": "",
            "layout": "IPY_MODEL_310b616f47c74d59bb248fda189aade4",
            "_model_module": "@jupyter-widgets/controls",
            "children": [
              "IPY_MODEL_5de038ca247b49fa9e500cda3f2896ed",
              "IPY_MODEL_7a46a365e27a43b5acc8ca7a6c5967ad"
            ]
          }
        },
        "310b616f47c74d59bb248fda189aade4": {
          "model_module": "@jupyter-widgets/base",
          "model_name": "LayoutModel",
          "state": {
            "_view_name": "LayoutView",
            "grid_template_rows": null,
            "right": null,
            "justify_content": null,
            "_view_module": "@jupyter-widgets/base",
            "overflow": null,
            "_model_module_version": "1.2.0",
            "_view_count": null,
            "flex_flow": null,
            "width": null,
            "min_width": null,
            "border": null,
            "align_items": null,
            "bottom": null,
            "_model_module": "@jupyter-widgets/base",
            "top": null,
            "grid_column": null,
            "overflow_y": null,
            "overflow_x": null,
            "grid_auto_flow": null,
            "grid_area": null,
            "grid_template_columns": null,
            "flex": null,
            "_model_name": "LayoutModel",
            "justify_items": null,
            "grid_row": null,
            "max_height": null,
            "align_content": null,
            "visibility": null,
            "align_self": null,
            "height": null,
            "min_height": null,
            "padding": null,
            "grid_auto_rows": null,
            "grid_gap": null,
            "max_width": null,
            "order": null,
            "_view_module_version": "1.2.0",
            "grid_template_areas": null,
            "object_position": null,
            "object_fit": null,
            "grid_auto_columns": null,
            "margin": null,
            "display": null,
            "left": null
          }
        },
        "5de038ca247b49fa9e500cda3f2896ed": {
          "model_module": "@jupyter-widgets/controls",
          "model_name": "FloatProgressModel",
          "state": {
            "_view_name": "ProgressView",
            "style": "IPY_MODEL_c56384b7afa6445fba61e015937e1896",
            "_dom_classes": [],
            "description": "Downloading: 100%",
            "_model_name": "FloatProgressModel",
            "bar_style": "success",
            "max": 456318,
            "_view_module": "@jupyter-widgets/controls",
            "_model_module_version": "1.5.0",
            "value": 456318,
            "_view_count": null,
            "_view_module_version": "1.5.0",
            "orientation": "horizontal",
            "min": 0,
            "description_tooltip": null,
            "_model_module": "@jupyter-widgets/controls",
            "layout": "IPY_MODEL_16b78d1de2d4421b9784da1281384ba4"
          }
        },
        "7a46a365e27a43b5acc8ca7a6c5967ad": {
          "model_module": "@jupyter-widgets/controls",
          "model_name": "HTMLModel",
          "state": {
            "_view_name": "HTMLView",
            "style": "IPY_MODEL_b7549df0e97a47ab96ec7b45ee1913ac",
            "_dom_classes": [],
            "description": "",
            "_model_name": "HTMLModel",
            "placeholder": "​",
            "_view_module": "@jupyter-widgets/controls",
            "_model_module_version": "1.5.0",
            "value": " 456k/456k [00:03&lt;00:00, 138kB/s]",
            "_view_count": null,
            "_view_module_version": "1.5.0",
            "description_tooltip": null,
            "_model_module": "@jupyter-widgets/controls",
            "layout": "IPY_MODEL_457f40018e094784b6fdccb4eb47aa45"
          }
        },
        "c56384b7afa6445fba61e015937e1896": {
          "model_module": "@jupyter-widgets/controls",
          "model_name": "ProgressStyleModel",
          "state": {
            "_view_name": "StyleView",
            "_model_name": "ProgressStyleModel",
            "description_width": "initial",
            "_view_module": "@jupyter-widgets/base",
            "_model_module_version": "1.5.0",
            "_view_count": null,
            "_view_module_version": "1.2.0",
            "bar_color": null,
            "_model_module": "@jupyter-widgets/controls"
          }
        },
        "16b78d1de2d4421b9784da1281384ba4": {
          "model_module": "@jupyter-widgets/base",
          "model_name": "LayoutModel",
          "state": {
            "_view_name": "LayoutView",
            "grid_template_rows": null,
            "right": null,
            "justify_content": null,
            "_view_module": "@jupyter-widgets/base",
            "overflow": null,
            "_model_module_version": "1.2.0",
            "_view_count": null,
            "flex_flow": null,
            "width": null,
            "min_width": null,
            "border": null,
            "align_items": null,
            "bottom": null,
            "_model_module": "@jupyter-widgets/base",
            "top": null,
            "grid_column": null,
            "overflow_y": null,
            "overflow_x": null,
            "grid_auto_flow": null,
            "grid_area": null,
            "grid_template_columns": null,
            "flex": null,
            "_model_name": "LayoutModel",
            "justify_items": null,
            "grid_row": null,
            "max_height": null,
            "align_content": null,
            "visibility": null,
            "align_self": null,
            "height": null,
            "min_height": null,
            "padding": null,
            "grid_auto_rows": null,
            "grid_gap": null,
            "max_width": null,
            "order": null,
            "_view_module_version": "1.2.0",
            "grid_template_areas": null,
            "object_position": null,
            "object_fit": null,
            "grid_auto_columns": null,
            "margin": null,
            "display": null,
            "left": null
          }
        },
        "b7549df0e97a47ab96ec7b45ee1913ac": {
          "model_module": "@jupyter-widgets/controls",
          "model_name": "DescriptionStyleModel",
          "state": {
            "_view_name": "StyleView",
            "_model_name": "DescriptionStyleModel",
            "description_width": "",
            "_view_module": "@jupyter-widgets/base",
            "_model_module_version": "1.5.0",
            "_view_count": null,
            "_view_module_version": "1.2.0",
            "_model_module": "@jupyter-widgets/controls"
          }
        },
        "457f40018e094784b6fdccb4eb47aa45": {
          "model_module": "@jupyter-widgets/base",
          "model_name": "LayoutModel",
          "state": {
            "_view_name": "LayoutView",
            "grid_template_rows": null,
            "right": null,
            "justify_content": null,
            "_view_module": "@jupyter-widgets/base",
            "overflow": null,
            "_model_module_version": "1.2.0",
            "_view_count": null,
            "flex_flow": null,
            "width": null,
            "min_width": null,
            "border": null,
            "align_items": null,
            "bottom": null,
            "_model_module": "@jupyter-widgets/base",
            "top": null,
            "grid_column": null,
            "overflow_y": null,
            "overflow_x": null,
            "grid_auto_flow": null,
            "grid_area": null,
            "grid_template_columns": null,
            "flex": null,
            "_model_name": "LayoutModel",
            "justify_items": null,
            "grid_row": null,
            "max_height": null,
            "align_content": null,
            "visibility": null,
            "align_self": null,
            "height": null,
            "min_height": null,
            "padding": null,
            "grid_auto_rows": null,
            "grid_gap": null,
            "max_width": null,
            "order": null,
            "_view_module_version": "1.2.0",
            "grid_template_areas": null,
            "object_position": null,
            "object_fit": null,
            "grid_auto_columns": null,
            "margin": null,
            "display": null,
            "left": null
          }
        }
      }
    }
  },
  "cells": [
    {
      "cell_type": "markdown",
      "metadata": {
        "id": "view-in-github",
        "colab_type": "text"
      },
      "source": [
        "<a href=\"https://colab.research.google.com/github/sanyagoyal2000/Youtube--Transcript-Summarizer/blob/main/transcript_summarizer.ipynb\" target=\"_parent\"><img src=\"https://colab.research.google.com/assets/colab-badge.svg\" alt=\"Open In Colab\"/></a>"
      ]
    },
    {
      "cell_type": "code",
      "metadata": {
        "id": "s9fK2Z8wwqch"
      },
      "source": [
        "!pip install -q transformers"
      ],
      "execution_count": 6,
      "outputs": []
    },
    {
      "cell_type": "code",
      "metadata": {
        "id": "IkM8I18FxJrg"
      },
      "source": [
        "!pip install -q youtube_transcript_api"
      ],
      "execution_count": 13,
      "outputs": []
    },
    {
      "cell_type": "code",
      "metadata": {
        "id": "ChvDF7C-xjfm"
      },
      "source": [
        "from transformers import pipeline\n",
        "from youtube_transcript_api import YouTubeTranscriptApi"
      ],
      "execution_count": 14,
      "outputs": []
    },
    {
      "cell_type": "code",
      "metadata": {
        "id": "tdGfex0ky0a6"
      },
      "source": [
        "youtube_video=\"https://www.youtube.com/watch?v=IYJimI0TtaM\""
      ],
      "execution_count": 20,
      "outputs": []
    },
    {
      "cell_type": "code",
      "metadata": {
        "id": "VrjQbccMzADH"
      },
      "source": [
        "video_id=youtube_video.split(\"=\")[1]"
      ],
      "execution_count": 21,
      "outputs": []
    },
    {
      "cell_type": "code",
      "metadata": {
        "colab": {
          "base_uri": "https://localhost:8080/",
          "height": 35
        },
        "id": "OrpXciK3zF-q",
        "outputId": "e824354c-13c2-4aa3-e1ab-2a320b7e7833"
      },
      "source": [
        "video_id"
      ],
      "execution_count": 22,
      "outputs": [
        {
          "output_type": "execute_result",
          "data": {
            "application/vnd.google.colaboratory.intrinsic+json": {
              "type": "string"
            },
            "text/plain": [
              "'IYJimI0TtaM'"
            ]
          },
          "metadata": {
            "tags": []
          },
          "execution_count": 22
        }
      ]
    },
    {
      "cell_type": "code",
      "metadata": {
        "colab": {
          "base_uri": "https://localhost:8080/",
          "height": 321
        },
        "id": "jbj52EhHzc-M",
        "outputId": "1d1c88a8-73d9-4f6a-f2fe-123a5275ba3d"
      },
      "source": [
        "from IPython.display import YouTubeVideo\n",
        "YouTubeVideo(video_id)"
      ],
      "execution_count": 23,
      "outputs": [
        {
          "output_type": "execute_result",
          "data": {
            "text/html": [
              "\n",
              "        <iframe\n",
              "            width=\"400\"\n",
              "            height=\"300\"\n",
              "            src=\"https://www.youtube.com/embed/IYJimI0TtaM\"\n",
              "            frameborder=\"0\"\n",
              "            allowfullscreen\n",
              "        ></iframe>\n",
              "        "
            ],
            "text/plain": [
              "<IPython.lib.display.YouTubeVideo at 0x7feb20ba50d0>"
            ],
            "image/jpeg": "[encoded data removed]"
          },
          "metadata": {
            "tags": []
          },
          "execution_count": 23
        }
      ]
    },
    {
      "cell_type": "code",
      "metadata": {
        "id": "Jb8tls0OzrIw"
      },
      "source": [
        "YouTubeTranscriptApi.get_transcript(video_id)\n",
        "transcript=YouTubeTranscriptApi.get_transcript(video_id)"
      ],
      "execution_count": 25,
      "outputs": []
    },
    {
      "cell_type": "code",
      "metadata": {
        "colab": {
          "base_uri": "https://localhost:8080/"
        },
        "id": "ZExbnop90V46",
        "outputId": "b7e7fda2-1adb-4396-dc87-e12b720b5e0a"
      },
      "source": [
        "transcript"
      ],
      "execution_count": 26,
      "outputs": [
        {
          "output_type": "execute_result",
          "data": {
            "text/plain": [
              "[{'duration': 3.6,\n",
              "  'start': 0.0,\n",
              "  'text': \"hey chandler why it's so fancy well i\"},\n",
              " {'duration': 3.359,\n",
              "  'start': 1.92,\n",
              "  'text': \"got a job interview it's kind of a big\"},\n",
              " {'duration': 3.279,\n",
              "  'start': 3.6,\n",
              "  'text': \"deal too it's a lot more money and i'd\"},\n",
              " {'duration': 2.801,\n",
              "  'start': 5.279,\n",
              "  'text': 'be doing data reconfiguration and'},\n",
              " {'duration': 2.64, 'start': 6.879, 'text': 'statistical factoring'},\n",
              " {'duration': 5.2,\n",
              "  'start': 8.08,\n",
              "  'text': 'wait i think i know someone who does'},\n",
              " {'duration': 3.761, 'start': 9.519, 'text': 'that me i do that'},\n",
              " {'duration': 5.76, 'start': 13.84, 'text': 'can you hear that yeah'},\n",
              " {'duration': 3.289, 'start': 17.83, 'text': '[Applause]'},\n",
              " {'duration': 3.759,\n",
              "  'start': 19.6,\n",
              "  'text': \"see that'll stop when you pick up the\"},\n",
              " {'duration': 2.24, 'start': 21.119, 'text': 'phone'},\n",
              " {'duration': 6.719, 'start': 24.4, 'text': \"oh i'm on bye-bye bye chandler\"},\n",
              " {'duration': 4.559, 'start': 27.84, 'text': 'i miss you already'},\n",
              " {'duration': 3.761,\n",
              "  'start': 31.119,\n",
              "  'text': \"you don't make a very good first\"},\n",
              " {'duration': 2.481, 'start': 32.399, 'text': 'impression'},\n",
              " {'duration': 6.16, 'start': 35.04, 'text': \"what oh you don't know\"},\n",
              " {'duration': 4.64,\n",
              "  'start': 38.8,\n",
              "  'text': 'are you serious yes um when i first met'},\n",
              " {'duration': 4.64,\n",
              "  'start': 41.2,\n",
              "  'text': 'you you were like blah blah wow i was'},\n",
              " {'duration': 2.4, 'start': 43.44, 'text': 'like'},\n",
              " {'duration': 3.2, 'start': 46.32, 'text': \"mr bing's office\"},\n",
              " {'duration': 3.84,\n",
              "  'start': 50.719,\n",
              "  'text': \"no i'm sorry he's in a meeting right now\"},\n",
              " {'duration': 4.641,\n",
              "  'start': 54.879,\n",
              "  'text': 'will he know what this is in reference'},\n",
              " {'duration': 3.96, 'start': 56.84, 'text': 'to andy has your number'},\n",
              " {'duration': 4.4,\n",
              "  'start': 59.52,\n",
              "  'text': \"all right i'll see that he gets the\"},\n",
              " {'duration': 3.12, 'start': 60.8, 'text': 'message bye bye'},\n",
              " {'duration': 6.16,\n",
              "  'start': 65.92,\n",
              "  'text': 'ross says hi if this is nice we never do'},\n",
              " {'duration': 4.4, 'start': 69.52, 'text': 'anything just the two of us'},\n",
              " {'duration': 4.64,\n",
              "  'start': 72.08,\n",
              "  'text': \"that's great maybe tomorrow we can rent\"},\n",
              " {'duration': 5.92, 'start': 73.92, 'text': 'a car run over some puppies'},\n",
              " {'duration': 3.12, 'start': 76.72, 'text': \"ew i don't want to do that\"},\n",
              " {'duration': 3.44,\n",
              "  'start': 79.92,\n",
              "  'text': 'you calm down after a while and then'},\n",
              " {'duration': 2.879,\n",
              "  'start': 81.92,\n",
              "  'text': 'people can see how really sweet and'},\n",
              " {'duration': 2.88, 'start': 83.36, 'text': 'wonderful you really are'},\n",
              " {'duration': 2.721,\n",
              "  'start': 84.799,\n",
              "  'text': \"oh good good because i'm sure this\"},\n",
              " {'duration': 2.0,\n",
              "  'start': 86.24,\n",
              "  'text': 'interview is gonna last a couple of'},\n",
              " {'duration': 3.04, 'start': 87.52, 'text': 'weeks'},\n",
              " {'duration': 4.32,\n",
              "  'start': 88.24,\n",
              "  'text': 'all right what do we do now well now i'},\n",
              " {'duration': 4.96, 'start': 90.56, 'text': 'actually have to get to work'},\n",
              " {'duration': 2.96, 'start': 92.56, 'text': 'most likely'},\n",
              " {'duration': 3.839,\n",
              "  'start': 96.64,\n",
              "  'text': 'how long before you have to leave an'},\n",
              " {'duration': 5.48, 'start': 98.84, 'text': 'hour'},\n",
              " {'duration': 4.881,\n",
              "  'start': 100.479,\n",
              "  'text': \"i can't help you oh you're uh you're\"},\n",
              " {'duration': 4.159, 'start': 104.32, 'text': 'going'},\n",
              " {'duration': 10.48, 'start': 105.36, 'text': \"i'm not without you lover\"},\n",
              " {'duration': 7.361, 'start': 108.479, 'text': 'bye bye'},\n",
              " {'duration': 6.98,\n",
              "  'start': 116.64,\n",
              "  'text': \"yes what you doing they don't like you\"},\n",
              " {'duration': 3.1, 'start': 120.52, 'text': '[Music]'},\n",
              " {'duration': 8.001,\n",
              "  'start': 125.119,\n",
              "  'text': 'what i thought you knew that no'},\n",
              " {'duration': 6.64, 'start': 129.679, 'text': \"who doesn't like me everyone\"},\n",
              " {'duration': 7.44, 'start': 133.12, 'text': 'except for um no everyone hi'},\n",
              " {'duration': 7.121,\n",
              "  'start': 136.319,\n",
              "  'text': \"come on in i'm a regina phalange\"},\n",
              " {'duration': 3.2,\n",
              "  'start': 140.56,\n",
              "  'text': 'chandler big oh thing what an unusual'},\n",
              " {'duration': 3.84, 'start': 143.44, 'text': 'name'},\n",
              " {'duration': 3.52,\n",
              "  'start': 143.76,\n",
              "  'text': 'well you should meet my uncle bada'},\n",
              " {'duration': 5.039,\n",
              "  'start': 152.56,\n",
              "  'text': \"i'll let myself out maybe you maybe you\"},\n",
              " {'duration': 3.28,\n",
              "  'start': 155.92,\n",
              "  'text': 'do something different you know maybe'},\n",
              " {'duration': 4.241,\n",
              "  'start': 157.599,\n",
              "  'text': 'you get her an engagement bracelet you'},\n",
              " {'duration': 5.28, 'start': 159.2, 'text': 'know or an engagement tiara'},\n",
              " {'duration': 5.119,\n",
              "  'start': 161.84,\n",
              "  'text': 'oh an engagement revolutionary warm'},\n",
              " {'duration': 4.24, 'start': 164.48, 'text': 'basket'},\n",
              " {'duration': 3.201,\n",
              "  'start': 166.959,\n",
              "  'text': \"you know i'm so glad i picked you to\"},\n",
              " {'duration': 3.76, 'start': 168.72, 'text': 'help me with this huh'},\n",
              " {'duration': 4.0,\n",
              "  'start': 170.16,\n",
              "  'text': \"don't feel bad you know they used to\"},\n",
              " {'duration': 3.44, 'start': 172.48, 'text': 'like you a lot'},\n",
              " {'duration': 3.999,\n",
              "  'start': 174.16,\n",
              "  'text': 'but then you got promoted and you know'},\n",
              " {'duration': 5.039,\n",
              "  'start': 175.92,\n",
              "  'text': \"now you're all like mr boss man\"},\n",
              " {'duration': 4.08,\n",
              "  'start': 178.159,\n",
              "  'text': 'you know mr bing mr bing boss man big i'},\n",
              " {'duration': 4.801, 'start': 180.959, 'text': \"can't believe it\"},\n",
              " {'duration': 7.36, 'start': 182.239, 'text': 'yeah yeah they even do you'},\n",
              " {'duration': 8.16,\n",
              "  'start': 185.76,\n",
              "  'text': 'they do me you know like um okay'},\n",
              " {'duration': 4.321,\n",
              "  'start': 189.599,\n",
              "  'text': 'um could that report be any later'},\n",
              " {'duration': 5.839,\n",
              "  'start': 196.4,\n",
              "  'text': \"that's it yeah it was really hard oh\"},\n",
              " {'duration': 4.64,\n",
              "  'start': 199.519,\n",
              "  'text': 'yeah the hug looked pretty brutal okay'},\n",
              " {'duration': 3.441,\n",
              "  'start': 202.239,\n",
              "  'text': \"you weren't there can i help you\"},\n",
              " {'duration': 3.761,\n",
              "  'start': 204.159,\n",
              "  'text': 'uh yeah yes i would like to see that'},\n",
              " {'duration': 4.559, 'start': 205.68, 'text': 'ring please or not whatever'},\n",
              " {'duration': 4.239,\n",
              "  'start': 207.92,\n",
              "  'text': \"this ring is from the 1920s it's a one\"},\n",
              " {'duration': 3.28,\n",
              "  'start': 210.239,\n",
              "  'text': 'and a half carat diamond with sapphires'},\n",
              " {'duration': 4.401, 'start': 212.159, 'text': 'on either side'},\n",
              " {'duration': 4.881,\n",
              "  'start': 213.519,\n",
              "  'text': 'sir could i ask you to um could you'},\n",
              " {'duration': 4.0,\n",
              "  'start': 216.56,\n",
              "  'text': 'hold out that ring and ask me to marry'},\n",
              " {'duration': 2.16, 'start': 218.4, 'text': 'you'},\n",
              " {'duration': 2.321, 'start': 221.599, 'text': 'okay'},\n",
              " {'duration': 5.92,\n",
              "  'start': 224.879,\n",
              "  'text': \"will you marry me oh my god that's it\"},\n",
              " {'duration': 2.56, 'start': 228.239, 'text': \"that's the ring\"},\n",
              " {'duration': 5.44,\n",
              "  'start': 230.879,\n",
              "  'text': 'how much is it chandler i will handle'},\n",
              " {'duration': 3.52, 'start': 232.799, 'text': 'this how much is it'},\n",
              " {'duration': 4.4, 'start': 238.0, 'text': 'so this is my bra'},\n",
              " {'duration': 3.12, 'start': 244.56, 'text': \"it's very very nice\"},\n",
              " {'duration': 6.961,\n",
              "  'start': 248.879,\n",
              "  'text': \"well come here i'm very happy we're\"},\n",
              " {'duration': 3.36, 'start': 252.48, 'text': 'gonna have all the sex'},\n",
              " {'duration': 4.559, 'start': 255.92, 'text': \"you should be i'm very bendy\"},\n",
              " {'duration': 5.84,\n",
              "  'start': 264.0,\n",
              "  'text': \"i'm gonna kiss you now not if i kiss you\"},\n",
              " {'duration': 3.0, 'start': 266.84, 'text': 'first'},\n",
              " {'duration': 3.92,\n",
              "  'start': 287.44,\n",
              "  'text': \"well i guess there's nothing left for us\"},\n",
              " {'duration': 9.201, 'start': 288.639, 'text': 'to do but but kiss'},\n",
              " {'duration': 6.48, 'start': 291.36, 'text': 'here it comes our first kiss'},\n",
              " {'duration': 4.72,\n",
              "  'start': 304.88,\n",
              "  'text': 'okay okay okay will you win um oh'},\n",
              " {'duration': 4.88,\n",
              "  'start': 308.0,\n",
              "  'text': 'i got a birthday party with some work'},\n",
              " {'duration': 5.92, 'start': 309.6, 'text': 'people work people'},\n",
              " {'duration': 3.759,\n",
              "  'start': 312.88,\n",
              "  'text': \"nobody told me no i know that's part of\"},\n",
              " {'duration': 3.519, 'start': 315.52, 'text': 'the whole you know'},\n",
              " {'duration': 4.241,\n",
              "  'start': 316.639,\n",
              "  'text': \"them not liking you extravaganza it's\"},\n",
              " {'duration': 3.201,\n",
              "  'start': 319.039,\n",
              "  'text': 'just like pulling off a band-aid okay'},\n",
              " {'duration': 6.56, 'start': 320.88, 'text': 'just do it really fast'},\n",
              " {'duration': 5.2,\n",
              "  'start': 322.24,\n",
              "  'text': 'and then the wound is exposed go go'},\n",
              " {'duration': 4.879,\n",
              "  'start': 328.16,\n",
              "  'text': 'eight thousand six hundred we will give'},\n",
              " {'duration': 2.879, 'start': 330.16, 'text': 'you ten dollars'},\n",
              " {'duration': 3.921,\n",
              "  'start': 333.919,\n",
              "  'text': 'are you interested in this ring yes yes'},\n",
              " {'duration': 3.28,\n",
              "  'start': 336.16,\n",
              "  'text': 'but i can only pay eight thousand'},\n",
              " {'duration': 3.359, 'start': 337.84, 'text': 'dollars'},\n",
              " {'duration': 3.28,\n",
              "  'start': 339.44,\n",
              "  'text': 'okay i can let it go for eight we stand'},\n",
              " {'duration': 4.401, 'start': 341.199, 'text': 'firm at ten dollars'},\n",
              " {'duration': 4.08,\n",
              "  'start': 342.72,\n",
              "  'text': \"listen i'm sorry about before do you\"},\n",
              " {'duration': 4.319, 'start': 345.6, 'text': 'have anything here for'},\n",
              " {'duration': 4.72,\n",
              "  'start': 346.8,\n",
              "  'text': 'ten dollars uh yes i have these two'},\n",
              " {'duration': 4.641, 'start': 349.919, 'text': 'rather beautiful'},\n",
              " {'duration': 3.04, 'start': 351.52, 'text': 'five dollar bills'},\n",
              " {'duration': 4.641,\n",
              "  'start': 355.759,\n",
              "  'text': \"i'll give you one dollar for them\"},\n",
              " {'duration': 8.48,\n",
              "  'start': 358.8,\n",
              "  'text': \"but let's stop focusing on what you\"},\n",
              " {'duration': 9.6,\n",
              "  'start': 360.4,\n",
              "  'text': \"don't do and focus on what you do\"},\n",
              " {'duration': 2.72, 'start': 367.28, 'text': 'what i do do'},\n",
              " {'duration': 3.519,\n",
              "  'start': 371.68,\n",
              "  'text': 'is manage to uh create an atmosphere of'},\n",
              " {'duration': 3.28, 'start': 374.24, 'text': 'support'},\n",
              " {'duration': 4.0,\n",
              "  'start': 375.199,\n",
              "  'text': 'for the people working with me i see'},\n",
              " {'duration': 2.799,\n",
              "  'start': 377.52,\n",
              "  'text': 'nice side step on the doo-doo thing by'},\n",
              " {'duration': 1.601,\n",
              "  'start': 379.199,\n",
              "  'text': \"the way the hardest thing i've ever done\"},\n",
              " {'duration': 1.521, 'start': 380.319, 'text': 'in my life'},\n",
              " {'duration': 3.119,\n",
              "  'start': 380.8,\n",
              "  'text': \"you know now you're more like you know\"},\n",
              " {'duration': 3.52,\n",
              "  'start': 381.84,\n",
              "  'text': \"mr caring boss mister you know i'm one\"},\n",
              " {'duration': 2.72,\n",
              "  'start': 383.919,\n",
              "  'text': 'of you boss mister i want to be your'},\n",
              " {'duration': 3.6, 'start': 385.36, 'text': 'buddy boss man bing'},\n",
              " {'duration': 3.041,\n",
              "  'start': 386.639,\n",
              "  'text': 'this is my fiance and her heart was set'},\n",
              " {'duration': 2.4, 'start': 388.96, 'text': 'on that'},\n",
              " {'duration': 3.04,\n",
              "  'start': 389.68,\n",
              "  'text': \"ring you don't want to break her heart\"},\n",
              " {'duration': 3.119, 'start': 391.36, 'text': 'now do you yeah'},\n",
              " {'duration': 3.52,\n",
              "  'start': 392.72,\n",
              "  'text': \"do you want to break a dying woman's\"},\n",
              " {'duration': 4.321, 'start': 394.479, 'text': 'heart'},\n",
              " {'duration': 2.56, 'start': 396.24, 'text': \"you're dying\"},\n",
              " {'duration': 5.519,\n",
              "  'start': 401.12,\n",
              "  'text': \"yeah she's dying of a cough apparently\"},\n",
              " {'duration': 3.2,\n",
              "  'start': 404.96,\n",
              "  'text': 'thanks listen about the weekly numbers'},\n",
              " {'duration': 4.641,\n",
              "  'start': 406.639,\n",
              "  'text': \"i'm going to need them on my desk\"},\n",
              " {'duration': 5.68, 'start': 408.16, 'text': \"by nine o'clock sure\"},\n",
              " {'duration': 2.56, 'start': 411.28, 'text': 'no problem'},\n",
              " {'duration': 3.61, 'start': 413.91, 'text': '[Music]'},\n",
              " {'duration': 4.399,\n",
              "  'start': 415.36,\n",
              "  'text': 'you have to give me something you know'},\n",
              " {'duration': 3.44,\n",
              "  'start': 417.52,\n",
              "  'text': 'okay now that was gersten santos and uh'},\n",
              " {'duration': 4.241,\n",
              "  'start': 419.759,\n",
              "  'text': \"who's the guy with the mustache\"},\n",
              " {'duration': 5.44,\n",
              "  'start': 420.96,\n",
              "  'text': 'he treat petrie right right okay well'},\n",
              " {'duration': 4.96,\n",
              "  'start': 424.0,\n",
              "  'text': 'some people are gonna be working this'},\n",
              " {'duration': 2.56, 'start': 426.4, 'text': 'weekend'},\n",
              " {'duration': 4.16,\n",
              "  'start': 429.12,\n",
              "  'text': 'i hit her in the eye i hit her in the'},\n",
              " {'duration': 4.56, 'start': 431.039, 'text': 'eye this is the worst'},\n",
              " {'duration': 4.8,\n",
              "  'start': 433.28,\n",
              "  'text': 'breakup in the history of the world oh'},\n",
              " {'duration': 2.481, 'start': 435.599, 'text': 'my god'},\n",
              " {'duration': 3.681,\n",
              "  'start': 438.319,\n",
              "  'text': 'okay how many of those have you had oh i'},\n",
              " {'duration': 3.519, 'start': 441.12, 'text': \"don't know\"},\n",
              " {'duration': 2.639, 'start': 442.0, 'text': 'a million'},\n",
              " {'duration': 7.76,\n",
              "  'start': 445.12,\n",
              "  'text': 'easy easy go to go to your happy place'},\n",
              " {'duration': 4.641,\n",
              "  'start': 450.479,\n",
              "  'text': 'and you are about to marry a wonderful'},\n",
              " {'duration': 2.24, 'start': 452.88, 'text': 'man'},\n",
              " {'duration': 3.599, 'start': 459.44, 'text': \"hey i'm marrying a dead woman\"}]"
            ]
          },
          "metadata": {
            "tags": []
          },
          "execution_count": 26
        }
      ]
    },
    {
      "cell_type": "code",
      "metadata": {
        "colab": {
          "base_uri": "https://localhost:8080/"
        },
        "id": "JzYAiq4h0rBI",
        "outputId": "ccbec894-cdc1-4d6c-bf13-c3df4a2a86fc"
      },
      "source": [
        "transcript[0:5]"
      ],
      "execution_count": 27,
      "outputs": [
        {
          "output_type": "execute_result",
          "data": {
            "text/plain": [
              "[{'duration': 3.6,\n",
              "  'start': 0.0,\n",
              "  'text': \"hey chandler why it's so fancy well i\"},\n",
              " {'duration': 3.359,\n",
              "  'start': 1.92,\n",
              "  'text': \"got a job interview it's kind of a big\"},\n",
              " {'duration': 3.279,\n",
              "  'start': 3.6,\n",
              "  'text': \"deal too it's a lot more money and i'd\"},\n",
              " {'duration': 2.801,\n",
              "  'start': 5.279,\n",
              "  'text': 'be doing data reconfiguration and'},\n",
              " {'duration': 2.64, 'start': 6.879, 'text': 'statistical factoring'}]"
            ]
          },
          "metadata": {
            "tags": []
          },
          "execution_count": 27
        }
      ]
    },
    {
      "cell_type": "code",
      "metadata": {
        "colab": {
          "base_uri": "https://localhost:8080/"
        },
        "id": "hB7cjfVg0yRL",
        "outputId": "fd64f837-e2cf-4c0c-91df-256e2c0ba6bf"
      },
      "source": [
        "result=\"\"\n",
        "for i in transcript:\n",
        "  result+=' ' + i['text']\n",
        "print(len(result))"
      ],
      "execution_count": 32,
      "outputs": [
        {
          "output_type": "stream",
          "text": [
            "4539\n"
          ],
          "name": "stdout"
        }
      ]
    },
    {
      "cell_type": "code",
      "metadata": {
        "colab": {
          "base_uri": "https://localhost:8080/",
          "height": 262,
          "referenced_widgets": [
            "758bf2b563684faa96c2f48c2ef5e99e",
            "02cb65b7c35a471c9e47d13322e5749e",
            "1afd1adaa7fd49d7a0326009af570af9",
            "6215c84cb03c446db0d9e53d57988f3d",
            "c4d44f1a16bf41fa88e3abfe4f86483b",
            "29555eae46ba4226b33ee4a4ace2a4c7",
            "d5445727c5594f92b10683faec93db6e",
            "a9bd2364d7234a0eb25d6fbb302c0afe",
            "b51b2d044a6449b19e2ab03ed120916a",
            "9576a1a90943420f8b83da74ff1f79d1",
            "637ae103862b4d6e90b330bcc943ad1f",
            "3d98f94d68754f038e51ed3022f4796c",
            "ec553d4834b04e8fb6c3f3dc70708b47",
            "5fae0423292b4d3192564a4f0ff1259e",
            "07cc1392b2db4b9ba234accf573eb47d",
            "dd211ef279e346ea8525078d22386247",
            "54270d3a58a247ffbd724938b165f978",
            "3d10d406c8574293ba80c62baae644e1",
            "a3eb46cd20b74b16b3d04943d3729861",
            "3a8f62e2f20a46d0a6a71b7baadc6438",
            "f802d3b7e564428fb696326bc901ea13",
            "efc78137e771467e91f4e4fa64b082c1",
            "ba13640655dc4b61a0ae6fb1ea188997",
            "23db47159e3d4a6382d145a6acc4a2eb",
            "b912250dd641422d988522418b6abfc3",
            "3255cec31ade49099eeee01dd460dd7d",
            "01e836ba140942329d66c169f103bb36",
            "7dad5551e17c44e886344d5d462cf860",
            "3f5a3e0b38de48eebd0d8a2d068967b6",
            "7f09f84eaff04c94b62f404c30b48dd2",
            "d845f6c024224581ad9f534ee26396a0",
            "a430786a8a0d4d759b7af74fcda334cf",
            "04e86e1133ed435db648ef22dd9a12d2",
            "310b616f47c74d59bb248fda189aade4",
            "5de038ca247b49fa9e500cda3f2896ed",
            "7a46a365e27a43b5acc8ca7a6c5967ad",
            "c56384b7afa6445fba61e015937e1896",
            "16b78d1de2d4421b9784da1281384ba4",
            "b7549df0e97a47ab96ec7b45ee1913ac",
            "457f40018e094784b6fdccb4eb47aa45"
          ]
        },
        "id": "QPP-DXh11jpW",
        "outputId": "4a89007a-33fd-47f1-d6b5-423f8476204f"
      },
      "source": [
        "summarizer=pipeline('summarization')"
      ],
      "execution_count": 33,
      "outputs": [
        {
          "output_type": "display_data",
          "data": {
            "application/vnd.jupyter.widget-view+json": {
              "model_id": "758bf2b563684faa96c2f48c2ef5e99e",
              "version_minor": 0,
              "version_major": 2
            },
            "text/plain": [
              "HBox(children=(FloatProgress(value=0.0, description='Downloading', max=1802.0, style=ProgressStyle(description…"
            ]
          },
          "metadata": {
            "tags": []
          }
        },
        {
          "output_type": "stream",
          "text": [
            "\n"
          ],
          "name": "stdout"
        },
        {
          "output_type": "display_data",
          "data": {
            "application/vnd.jupyter.widget-view+json": {
              "model_id": "b51b2d044a6449b19e2ab03ed120916a",
              "version_minor": 0,
              "version_major": 2
            },
            "text/plain": [
              "HBox(children=(FloatProgress(value=0.0, description='Downloading', max=1222317369.0, style=ProgressStyle(descr…"
            ]
          },
          "metadata": {
            "tags": []
          }
        },
        {
          "output_type": "stream",
          "text": [
            "\n"
          ],
          "name": "stdout"
        },
        {
          "output_type": "display_data",
          "data": {
            "application/vnd.jupyter.widget-view+json": {
              "model_id": "54270d3a58a247ffbd724938b165f978",
              "version_minor": 0,
              "version_major": 2
            },
            "text/plain": [
              "HBox(children=(FloatProgress(value=0.0, description='Downloading', max=26.0, style=ProgressStyle(description_w…"
            ]
          },
          "metadata": {
            "tags": []
          }
        },
        {
          "output_type": "stream",
          "text": [
            "\n"
          ],
          "name": "stdout"
        },
        {
          "output_type": "display_data",
          "data": {
            "application/vnd.jupyter.widget-view+json": {
              "model_id": "b912250dd641422d988522418b6abfc3",
              "version_minor": 0,
              "version_major": 2
            },
            "text/plain": [
              "HBox(children=(FloatProgress(value=0.0, description='Downloading', max=898822.0, style=ProgressStyle(descripti…"
            ]
          },
          "metadata": {
            "tags": []
          }
        },
        {
          "output_type": "stream",
          "text": [
            "\n"
          ],
          "name": "stdout"
        },
        {
          "output_type": "display_data",
          "data": {
            "application/vnd.jupyter.widget-view+json": {
              "model_id": "04e86e1133ed435db648ef22dd9a12d2",
              "version_minor": 0,
              "version_major": 2
            },
            "text/plain": [
              "HBox(children=(FloatProgress(value=0.0, description='Downloading', max=456318.0, style=ProgressStyle(descripti…"
            ]
          },
          "metadata": {
            "tags": []
          }
        },
        {
          "output_type": "stream",
          "text": [
            "\n"
          ],
          "name": "stdout"
        }
      ]
    },
    {
      "cell_type": "code",
      "metadata": {
        "colab": {
          "base_uri": "https://localhost:8080/"
        },
        "id": "fY7qd6BU1_uI",
        "outputId": "81648860-eeb3-44ed-94b6-dfe21d9e9246"
      },
      "source": [
        "num_iters=int(len(result)/1000)\n",
        "summarized_text=[]\n",
        "for i in range(0,num_iters+1):\n",
        "  start=0\n",
        "  start=i*1000\n",
        "  end=(i+1)*1000\n",
        "  out=summarizer(result[start:end])\n",
        "  out=out[0]\n",
        "  out=out['summary_text']\n",
        "  summarized_text.append(out)\n",
        "print(summarized_text)"
      ],
      "execution_count": 34,
      "outputs": [
        {
          "output_type": "stream",
          "text": [
            "/usr/local/lib/python3.7/dist-packages/torch/_tensor.py:575: UserWarning: floor_divide is deprecated, and will be removed in a future version of pytorch. It currently rounds toward 0 (like the 'trunc' function NOT 'floor'). This results in incorrect rounding for negative values.\n",
            "To keep the current behavior, use torch.div(a, b, rounding_mode='trunc'), or for actual floor division, use torch.div(a, b, rounding_mode='floor'). (Triggered internally at  /pytorch/aten/src/ATen/native/BinaryOps.cpp:467.)\n",
            "  return torch.floor_divide(self, other)\n",
            "Your max_length is set to 142, but you input_length is only 128. You might consider decreasing max_length manually, e.g. summarizer('...', max_length=50)\n"
          ],
          "name": "stderr"
        },
        {
          "output_type": "stream",
          "text": [
            "[\" i got a job interview it's kind of a big deal too it's a lot more money and i'd be doing data reconfiguration and statistical factoring . i miss you already you don't make a very good first impression, says chandler . i'm sorry he's in a meeting right now will he know what this is in reference to andy has your number all right .\", \" [Music] What i thought you knew that no who doesn't like me everyone except for um no everyone . a couple of weeks all right what do we do now well now i actually have to get to work most likely how long before you have to leave an hour i can't help you oh you're going i'm not without you lover bye bye .\", ' \"It was really hard oh yeah the hug looked pretty brutal okay you weren\\'t there can i help you uh yeah yes i would like to see that ring please or not whatever this ring is from the 1920s it\\'s a one and a half carat diamond with sapphires on either side . \"It\\'s just like pulling off a band-aid okay just do it really fast\"', ' The hardest thing i\\'ve ever done in my life is the hardest thing I\\'ve ever been doing, says Bing . Bing: \"Let\\'s stop focusing on what you don\\'t do and focus instead of what you do what i do do is manage to create an atmosphere of support for the people working with me\"', \" Some people are gonna be working this weekend i hit her in the eye   to need them on my desk by nine o'clock sure no problem [Music] This is the worst breakup in the history of the world oh my god okay how many of those have you had oh i don't know a million easy easy .\"]\n"
          ],
          "name": "stdout"
        }
      ]
    },
    {
      "cell_type": "code",
      "metadata": {
        "colab": {
          "base_uri": "https://localhost:8080/"
        },
        "id": "KeCmCfUW4Xzd",
        "outputId": "0cd67bed-edf7-4859-e353-42c7d39b4b1c"
      },
      "source": [
        "len(str(summarized_text))"
      ],
      "execution_count": 36,
      "outputs": [
        {
          "output_type": "execute_result",
          "data": {
            "text/plain": [
              "1529"
            ]
          },
          "metadata": {
            "tags": []
          },
          "execution_count": 36
        }
      ]
    },
    {
      "cell_type": "code",
      "metadata": {
        "id": "RcFuEtKAANcM"
      },
      "source": [
        ""
      ],
      "execution_count": null,
      "outputs": []
    }
  ]
}